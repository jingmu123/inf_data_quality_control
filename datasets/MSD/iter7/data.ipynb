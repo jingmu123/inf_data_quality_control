{
 "cells": [
  {
   "cell_type": "code",
   "execution_count": 1,
   "id": "initial_id",
   "metadata": {
    "collapsed": true,
    "ExecuteTime": {
     "end_time": "2024-04-19T07:33:32.764147Z",
     "start_time": "2024-04-19T07:33:32.749806Z"
    }
   },
   "outputs": [],
   "source": [
    "a=\" Bleeding and cramping are common signs of miscarriage If you were pregnant and didn't know it yet, you can have a miscarriage and think it was just your period To tell if you’ve had a miscarriage, doctors will check your cervix (the lower part of your uterus) Doctors will also do an ultrasound Ultrasonography is a safe imaging test that uses sound waves to create a moving picture of the insides of your body\"\n",
    "b=\"How can doctors tell if I've had a miscarriage? If you've had bleeding or cramping during the first 20 weeks of your pregnancy, doctors will: Do a pelvic exam: They look inside your vagina (birth canal) to check your cervix (the lower part of your uterus where your baby comes out)—if your cervix is open, a miscarriage is likely Do an ultrasound Ultrasonography is a safe imaging test that uses sound waves to create a moving picture of the insides of your body\"\n"
   ]
  },
  {
   "cell_type": "code",
   "outputs": [
    {
     "name": "stdout",
     "output_type": "stream",
     "text": [
      "0.7817552808306969\n",
      " Bleeding nd crmping re common signs  mcrrige   were pregnnt nd didn't know  yet,   hve  mcrrige nd think  ws just r period To tell  ’ve hd  mcrrige, docrs will check r cervix ( lower prt  r uterus) Docrs will lso do n ultrsound Ultrsonogrphy   sfe imging test tht uses sound wves  crete  moving picture   insides  r body\n",
      "How  docrs tell  I've hd  mcrrige?  've hd bleeding or crmping during  first 20 weeks  r pregnncy, docrs will: Do  pelvic exm: They look inside r vgin (birth l)  check r cervix ( lower prt  r uterus where r bby comes out)— r cervix  open,  mcrrige  likely Do n ultrsound Ultrsonogrphy   sfe imging test tht uses sound wves  crete  moving picture   insides  r body\n",
      "0.7817552808306969\n",
      "[('r', 11), ('nd', 3), ('mcrrige', 3), ('hd', 3), ('docrs', 3), ('cervix', 3), ('crmping', 2), ('tell', 2), ('will', 2), ('check', 2), ('(', 2), ('lower', 2), ('prt', 2), ('n', 2), ('ultrsound', 2), ('Ultrsonogrphy', 2), ('sfe', 2), ('imging', 2), ('test', 2), ('tht', 2), ('uses', 2), ('sound', 2), ('wves', 2), ('crete', 2), ('moving', 2), ('picture', 2), ('insides', 2), ('body', 2), ('Do', 2), ('Bleeding', 1), ('re', 1), ('common', 1), ('signs', 1), ('were', 1), ('pregnnt', 1), (\"didn't\", 1), ('know', 1), ('yet,', 1), ('hve', 1), ('think', 1), ('ws', 1), ('just', 1), ('period', 1), ('To', 1), ('’ve', 1), ('mcrrige,', 1), ('uterus)', 1), ('Docrs', 1), ('lso', 1), ('do', 1), ('How', 1), (\"I've\", 1), ('mcrrige?', 1), (\"'ve\", 1), ('bleeding', 1), ('or', 1), ('during', 1), ('first', 1), ('20', 1), ('weeks', 1), ('pregnncy,', 1), ('will:', 1), ('pelvic', 1), ('exm:', 1), ('They', 1), ('look', 1), ('inside', 1), ('vgin', 1), ('(birth', 1), ('l)', 1), ('uterus', 1), ('where', 1), ('bby', 1), ('comes', 1), ('out)—', 1), ('open,', 1), ('likely', 1)]\n",
      "[('r', 11), ('nd', 3), ('mcrrige', 3), ('hd', 3), ('docrs', 3), ('cervix', 3), ('crmping', 2), ('tell', 2), ('will', 2), ('check', 2), ('(', 2), ('lower', 2), ('prt', 2), ('n', 2), ('ultrsound', 2), ('Ultrsonogrphy', 2), ('sfe', 2), ('imging', 2), ('test', 2), ('tht', 2), ('uses', 2), ('sound', 2), ('wves', 2), ('crete', 2), ('moving', 2), ('picture', 2), ('insides', 2), ('body', 2), ('Do', 2), ('Bleeding', 1), ('re', 1), ('common', 1), ('signs', 1), ('were', 1), ('pregnnt', 1), (\"didn't\", 1), ('know', 1), ('yet,', 1), ('hve', 1), ('think', 1), ('ws', 1), ('just', 1), ('period', 1), ('To', 1), ('’ve', 1), ('mcrrige,', 1), ('uterus)', 1), ('Docrs', 1), ('lso', 1), ('do', 1), ('How', 1), (\"I've\", 1), ('mcrrige?', 1), (\"'ve\", 1), ('bleeding', 1), ('or', 1), ('during', 1), ('first', 1), ('20', 1), ('weeks', 1), ('pregnncy,', 1), ('will:', 1), ('pelvic', 1), ('exm:', 1), ('They', 1), ('look', 1), ('inside', 1), ('vgin', 1), ('(birth', 1), ('l)', 1), ('uterus', 1), ('where', 1), ('bby', 1), ('comes', 1), ('out)—', 1), ('open,', 1), ('likely', 1)]\n"
     ]
    }
   ],
   "source": [
    "\n",
    "import re\n",
    "import Levenshtein\n",
    "token_sets = {}\n",
    "def gets(content):\n",
    "    for item in content.split():\n",
    "        if item not in token_sets:\n",
    "            token_sets[item] = 0\n",
    "        token_sets[item] += 1\n",
    "    return token_sets \n",
    "score = Levenshtein.jaro_winkler(a, b) \n",
    "print(score)\n",
    "a = re.sub(r\"you|your|a|of|is|and|to|the|if|If|you|it|can|if|\",\"\",a)\n",
    "b = re.sub(r\"you|your|a|of|is|and|to|the|if|If|you|it|can|if|\",\"\",b)\n",
    "print(a)\n",
    "print(b)\n",
    "score = Levenshtein.jaro_winkler(a, b) \n",
    "print(score)\n",
    "data1 = gets(a)\n",
    "data2 = gets(b)\n",
    "data1 = sorted(data1.items(),key=lambda x:x[1], reverse=True)\n",
    "data2 =sorted(data2.items(),key=lambda x:x[1], reverse=True)\n",
    "print(data1)\n",
    "print(data2)"
   ],
   "metadata": {
    "collapsed": false,
    "ExecuteTime": {
     "end_time": "2024-04-19T07:42:36.250551Z",
     "start_time": "2024-04-19T07:42:36.244576Z"
    }
   },
   "id": "567ea0c5c458c6cf",
   "execution_count": 12
  },
  {
   "cell_type": "code",
   "outputs": [],
   "source": [
    "a=(\" Bleeding and cramping are common signs of miscarriage If you were pregnant and didn't know it yet, \"\n",
    "   \"you can have a miscarriage and think it was just your period To tell if you’ve had a miscarriage, \"\n",
    "   \"doctors will check your cervix (the lower part of your uterus) Doctors will also do an ultrasound Ultrasonography is a safe imaging test that uses sound waves to create a moving picture of the insides of your body\")\n",
    "b=(\"How can doctors tell if I've had a miscarriage? \"\n",
    "   \"If you've had bleeding or cramping during the first 20 weeks of your pregnancy, \"\n",
    "   \"doctors will: Do a pelvic exam: They look inside your vagina (birth canal) to check your cervix (the lower part of your uterus where your baby comes out)—if your cervix is open, \"\n",
    "   \"a miscarriage is likely Do an ultrasound Ultrasonography is a safe imaging test that uses sound waves to create a moving picture of the insides of your body\")"
   ],
   "metadata": {
    "collapsed": false
   },
   "id": "612f27b58867f1a2"
  }
 ],
 "metadata": {
  "kernelspec": {
   "display_name": "Python 3",
   "language": "python",
   "name": "python3"
  },
  "language_info": {
   "codemirror_mode": {
    "name": "ipython",
    "version": 2
   },
   "file_extension": ".py",
   "mimetype": "text/x-python",
   "name": "python",
   "nbconvert_exporter": "python",
   "pygments_lexer": "ipython2",
   "version": "2.7.6"
  }
 },
 "nbformat": 4,
 "nbformat_minor": 5
}
