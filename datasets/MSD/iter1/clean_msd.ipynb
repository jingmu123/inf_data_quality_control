{
 "cells": [
  {
   "cell_type": "code",
   "execution_count": 2,
   "id": "initial_id",
   "metadata": {
    "collapsed": true,
    "ExecuteTime": {
     "end_time": "2024-03-12T10:02:23.811611Z",
     "start_time": "2024-03-12T10:02:23.759757Z"
    }
   },
   "outputs": [],
   "source": [
    "import json\n",
    "import os\n",
    "import re\n",
    "from langdetect import detect\n",
    "from langdetect import detect_langs\n",
    "from tqdm import tqdm\n",
    "pattern_list_zh=['（?另见[^）]*.',\n",
    "              r'看?法? 进行患者培训 ',\n",
    "              '[^\\。]*参考(文献)*.?doi: [^\\s]+',\n",
    "              '[^\\。]*参考(文献)?[^，。]*.',\n",
    "              '[^,。~]*... 阅读更多[^\\u4e00-\\u9fa5]*',\n",
    "              '更多信息[^，。,\\.]*.',\n",
    "              'www\\.\\w+\\.\\w+[^\\s]*\\s',\n",
    "              '会在这本.*点击此处',\n",
    "              '（?(也可)?参见(概述)?[^\\.,，）]*.）?',\n",
    "              '[^\\.,]*\\.\\.\\. Common.TooltipReadMore',\n",
    "              '(表格)?(Table)? \\$\\(document\\).*\\);',\n",
    "              '请注意，本手册.*',\n",
    "              '\\(又见 .*[^ ]概述{1,3}',\n",
    "              '\\(s?S?ee[^\\)]*.\\.?',\n",
    "              '观看这些视频.*',\n",
    "              #r'(\\p{L}+)\\s+\\1(\\s+\\1)*',\n",
    "              ' ?\\(?（?见表 ?[^。]*',\n",
    "              ' ?（?\\(?见图 ?[^。]*',\n",
    "              ' ?（?\\(?也见 ?[^。]*',\n",
    "              '[\\(（ 也可同样]+见 ?[^。]*。?',\n",
    "              '[^\\u4e00-\\u9fa5-。]{10,1000}',\n",
    "            ]\n",
    "pattern_list_en=['[^\\.]*R?r?eferences? [^，。]*.?doi:?\\.? ?[^\\s]+',\n",
    "                 #r'\\b(\\w+)\\s+\\1\\b(\\s+\\1)*',\n",
    "                 '[^.]*\\(S?s?ee[^\\.]*\\)?(...)?( Common.TooltipReadMore)?[^\\.]*\\.',\n",
    "                 ' ?View Patient Education ',\n",
    "                 '(\\(\\d\\s+References)?(\\(See)?.*\\.\\.\\.\\sread more\\s+\\)\\.',\n",
    "                 'More Information The following.*',\n",
    "                 '(表格)?(Table)? \\$\\(document\\).*\\);',\n",
    "                 '[^.]*\\(S?s?ee[^\\.]*\\)?',\n",
    "                 '[^\\.]*([\\.]{1,10})? ?read more[^\\.\\?\\!\\s]*',\n",
    "                 '（?另见[^）]*.',\n",
    "                 '[^\\.]*([\\.]{1,10})? ?Common.TooltipReadMore[^\\w^\\(]*',' ?（?\\(?见图 ?[^。]*']\n",
    "\n",
    "pattern_ngram_en = r'([A-Za-z]+)\\s+\\1(\\s+\\1)*'\n",
    "pattern_ngram_zh = r'\\b(\\w+)\\s+\\1\\b(\\s+\\1)*'\n",
    "pattern_ngram_punc = r'([\\.。]+\\s?)\\1*'"
   ]
  },
  {
   "cell_type": "code",
   "outputs": [],
   "source": [
    "def detect_language(content):\n",
    "    #print(\"context\",content)\n",
    "    lang = detect(content)\n",
    "    if lang == \"zh-cn\":\n",
    "        return \"zh\"\n",
    "    if lang == \"en\":\n",
    "        return \"en\"\n",
    "    return \"None\""
   ],
   "metadata": {
    "collapsed": false,
    "ExecuteTime": {
     "end_time": "2024-03-12T10:02:26.137608Z",
     "start_time": "2024-03-12T10:02:26.097602Z"
    }
   },
   "id": "e4a0d45ac8c741bb",
   "execution_count": 3
  },
  {
   "cell_type": "code",
   "outputs": [
    {
     "name": "stdout",
     "output_type": "stream",
     "text": [
      "no\n"
     ]
    }
   ],
   "source": [],
   "metadata": {
    "collapsed": false,
    "ExecuteTime": {
     "end_time": "2024-03-12T10:03:24.210325Z",
     "start_time": "2024-03-12T10:03:24.131985Z"
    }
   },
   "id": "d5763132e0a55733",
   "execution_count": 20
  },
  {
   "cell_type": "code",
   "outputs": [],
   "source": [
    "def mv_ngram_repeat(content,pattern_ngram,lang):\n",
    "    part = re.findall(pattern_ngram, content, flags=re.IGNORECASE)\n",
    "    if not part:\n",
    "        return content\n",
    "    if lang == \"zh\":\n",
    "        for p in part:\n",
    "            content = re.sub(rf'({p[0]})\\s+\\1(\\s+\\1)*', p[0], content,flags=re.IGNORECASE)\n",
    "            # content=re.sub('通常需要精神病转诊。|AAABBBCCC|<><><>|ABCBCABAC|又见 脊髓病变疾病概述.）...|','',content)\n",
    "    if lang == \"en\":\n",
    "        for p in part:\n",
    "            content = re.sub(rf'\\b({p[0]})\\s+\\1\\b(\\s+\\1)*', p[0], content,flags=re.IGNORECASE)\n",
    "            # item=re.sub('© Springer Science+Business Media|Did You Know...','',item)\n",
    "    return content            \n",
    "\n",
    "def process_cite(context,pattern_list,pattern_ngram,lang):\n",
    "    result = []\n",
    "    split_token = \"\\n\\n\"\n",
    "    if split_token not in context:\n",
    "        split_token = \"\\n\"\n",
    "    for item in context.split(split_token):\n",
    "        item = item.strip(split_token)\n",
    "        item = mv_ngram_repeat(item,pattern_ngram,lang)\n",
    "        item = re.sub('通常需要精神病转诊。|AAABBBCCC|<><><>|ABCBCABAC|又见 脊髓病变疾病概述.）...|','',item)\n",
    "        item = re.sub('© Springer Science+Business Media|Did You Know...','',item)\n",
    "        for pattern_item in pattern_list:\n",
    "            item = re.sub(pattern_item, '', item, flags=re.IGNORECASE)\n",
    "            #item = re.findall('([^-.\\dwIX]{1,10})\\1{2,}', item, flags=re.IGNORECASE)\n",
    "            #print(pattern_item, \"\\t\",item)\n",
    "        result.append(item)\n",
    "    return split_token.join(result)\n",
    "\n",
    "def rm_last_paragh(text):\n",
    "    context = text.split(\"。\")\n",
    "    if len(context[-1]) < 5:\n",
    "        context = context[:-1]\n",
    "        context[-1] = context[-1] + \"。\"\n",
    "    new_context = []\n",
    "    for item in context:\n",
    "        if len(item) > 4:\n",
    "            new_context.append(item)\n",
    "    return \"。\".join(new_context)\n",
    "\n",
    "def rm_special_char(text):\n",
    "    if text[-2:] == \"了解\":\n",
    "        return text[:-2]\n",
    "    return text"
   ],
   "metadata": {
    "collapsed": false,
    "ExecuteTime": {
     "end_time": "2024-03-12T10:03:05.554206Z",
     "start_time": "2024-03-12T10:03:05.527441Z"
    }
   },
   "id": "269e084445ea9e4d",
   "execution_count": 10
  },
  {
   "cell_type": "code",
   "outputs": [
    {
     "name": "stderr",
     "output_type": "stream",
     "text": [
      "100%|██████████| 8149/8149 [08:24<00:00, 16.16it/s]\n"
     ]
    }
   ],
   "source": [
    "fw = open(\"msd_full_clean.jsonl\",\"w\",encoding=\"utf-8\")\n",
    "with open(\"msd_full.jsonl\",\"r\",encoding=\"utf-8\") as fs:\n",
    "    for items in tqdm(fs.readlines()):\n",
    "        item = json.loads(items.strip())\n",
    "        context = item[\"text\"]\n",
    "        # if item[\"seq_id\"] != 9165:\n",
    "        #     continue\n",
    "        #print(item)\n",
    "        lang = detect_language(item[\"text\"])\n",
    "        # print(context)\n",
    "        # print(\"========================================\")\n",
    "        if lang == \"zh\":\n",
    "            clean_text = process_cite(context,pattern_list_zh,pattern_ngram_zh,lang)\n",
    "            clean_text = re.sub(pattern_ngram_punc, \"。\", clean_text)\n",
    "            clean_text = clean_text.replace(\"。，\",\"。\")\n",
    "            clean_text = rm_last_paragh(clean_text)\n",
    "        else:\n",
    "            clean_text = process_cite(context,pattern_list_en,pattern_ngram_en,lang)\n",
    "            clean_text = re.sub(pattern_ngram_punc, \".\", clean_text)\n",
    "            # 替换标点连用\n",
    "            clean_text = re.sub(r\"\\.\\s?,\\s?\",\".\", clean_text)\n",
    "        #print(clean_text)\n",
    "        clean_text = rm_special_char(clean_text)\n",
    "        item[\"text\"] = clean_text\n",
    "        item[\"lang\"] = lang\n",
    "        item[\"tokens\"] = \"\"\n",
    "        item = json.dumps(item,ensure_ascii=False)\n",
    "        fw.write(item+\"\\n\")\n",
    "        #break"
   ],
   "metadata": {
    "collapsed": false,
    "ExecuteTime": {
     "end_time": "2024-02-29T10:03:48.617219Z",
     "start_time": "2024-02-29T09:55:23.936961Z"
    }
   },
   "id": "59d5bc2130a9327d",
   "execution_count": 47
  },
  {
   "cell_type": "code",
   "outputs": [],
   "source": [],
   "metadata": {
    "collapsed": false
   },
   "id": "ee5f06795b41f081"
  },
  {
   "cell_type": "code",
   "outputs": [],
   "source": [],
   "metadata": {
    "collapsed": false
   },
   "id": "3c235d2d2e1ecb44"
  }
 ],
 "metadata": {
  "kernelspec": {
   "display_name": "Python 3",
   "language": "python",
   "name": "python3"
  },
  "language_info": {
   "codemirror_mode": {
    "name": "ipython",
    "version": 2
   },
   "file_extension": ".py",
   "mimetype": "text/x-python",
   "name": "python",
   "nbconvert_exporter": "python",
   "pygments_lexer": "ipython2",
   "version": "2.7.6"
  }
 },
 "nbformat": 4,
 "nbformat_minor": 5
}
