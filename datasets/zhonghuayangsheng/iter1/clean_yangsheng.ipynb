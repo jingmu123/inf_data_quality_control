{
 "cells": [
  {
   "cell_type": "code",
   "execution_count": 5,
   "id": "initial_id",
   "metadata": {
    "collapsed": true,
    "ExecuteTime": {
     "end_time": "2024-03-20T06:00:56.692422Z",
     "start_time": "2024-03-20T06:00:56.677256Z"
    }
   },
   "outputs": [],
   "source": [
    "import json\n",
    "import re\n",
    "import uuid\n",
    "from tqdm import tqdm"
   ]
  },
  {
   "cell_type": "code",
   "outputs": [],
   "source": [
    "loss_pattern = r'.*?\\n-{4,}'"
   ],
   "metadata": {
    "collapsed": false,
    "ExecuteTime": {
     "end_time": "2024-03-20T06:00:57.238521Z",
     "start_time": "2024-03-20T06:00:57.227134Z"
    }
   },
   "id": "61401477ea58ca78",
   "execution_count": 6
  },
  {
   "cell_type": "code",
   "outputs": [],
   "source": [
    "def clean_loss(new_context_list):\n",
    "    idx = 0\n",
    "    final_context_list = []\n",
    "    while idx < len(new_context_list)-1:\n",
    "        curr_res = re.findall(loss_pattern, new_context_list[idx])\n",
    "        if curr_res:\n",
    "            next_res = re.findall(loss_pattern, new_context_list[idx+1])\n",
    "            if next_res:\n",
    "                #print(\"mv.......\", new_context_list[idx])\n",
    "                idx += 1\n",
    "            else:   \n",
    "                #print(\"adding1:\",new_context_list[idx])\n",
    "                final_context_list.append(new_context_list[idx])\n",
    "                idx += 1\n",
    "        else:\n",
    "            final_context_list.append(new_context_list[idx])\n",
    "            #print(\"adding2:\",new_context_list[idx])\n",
    "            idx += 1\n",
    "        #print(final_context_list)\n",
    "    final_context_list.append(new_context_list[-1])  \n",
    "    return final_context_list\n",
    "\n",
    "def clean_yangsheng(context):\n",
    "    #result = re.findall(noise_pattern, context)\n",
    "    #context = re.sub(noise_pattern, \"\\n\\n\",context)\n",
    "    #context = context.replace(\"\\n\\n*   **\", \"\\n\\n**\")\n",
    "    split_token = \"\\n\\n\"\n",
    "    new_context_list = []\n",
    "    context_list = context.split(split_token)\n",
    "    for item in context_list:\n",
    "        if \"文章\" not in item:\n",
    "            new_context_list.append(item)\n",
    "        else:\n",
    "            break\n",
    "    if new_context_list[-1] == \"别名：\":\n",
    "        new_context_list = new_context_list[:-1]\n",
    "    if len(new_context_list[-1].replace(\"=\",\"\").strip(\"\\n\")) == 0:\n",
    "        new_context_list = new_context_list[:-1]\n",
    "\n",
    "    new_context_list = clean_loss(new_context_list)\n",
    "    last_line = new_context_list[-1]\n",
    "    res = re.findall(loss_pattern, last_line)\n",
    "    if res:\n",
    "        new_context_list = new_context_list[:-1]\n",
    "    new_context = split_token.join(new_context_list)\n",
    "    return new_context.strip(\" \").strip(\"\\n\").strip(\" \").strip(\"\\n\")"
   ],
   "metadata": {
    "collapsed": false,
    "ExecuteTime": {
     "end_time": "2024-03-20T06:00:57.971971Z",
     "start_time": "2024-03-20T06:00:57.962550Z"
    }
   },
   "id": "3d4b6e42568cc886",
   "execution_count": 7
  },
  {
   "cell_type": "code",
   "outputs": [
    {
     "name": "stderr",
     "output_type": "stream",
     "text": [
      "100%|██████████| 694/694 [00:00<00:00, 12715.29it/s]\n"
     ]
    }
   ],
   "source": [
    "fw = open(\"../../../../full_data/zhonghuayangsheng/clean.jsonl\",\"w\",encoding=\"utf-8\")\n",
    "all_data = {}\n",
    "with open(\"../../../../full_data/zhonghuayangsheng/all_data_preformat.jsonl\", \"r\",encoding=\"utf-8\") as fs:\n",
    "    for item in tqdm(fs.readlines()):\n",
    "        item = json.loads(item)\n",
    "        context = item[\"text\"]\n",
    "        context = clean_yangsheng(context)\n",
    "        item[\"text\"] = context\n",
    "        item = json.dumps(item, ensure_ascii=False)\n",
    "        fw.write(item + \"\\n\")"
   ],
   "metadata": {
    "collapsed": false,
    "ExecuteTime": {
     "end_time": "2024-03-20T06:01:41.519849Z",
     "start_time": "2024-03-20T06:01:41.451066Z"
    }
   },
   "id": "a47a68e6a2279c8c",
   "execution_count": 9
  },
  {
   "cell_type": "code",
   "outputs": [],
   "source": [],
   "metadata": {
    "collapsed": false,
    "ExecuteTime": {
     "end_time": "2024-03-11T10:18:47.555565Z",
     "start_time": "2024-03-11T10:18:47.550706Z"
    }
   },
   "id": "9c6ab0b16aa0ce82",
   "execution_count": 135
  },
  {
   "cell_type": "code",
   "outputs": [],
   "source": [],
   "metadata": {
    "collapsed": false
   },
   "id": "62d19c24007be052"
  }
 ],
 "metadata": {
  "kernelspec": {
   "display_name": "Python 3",
   "language": "python",
   "name": "python3"
  },
  "language_info": {
   "codemirror_mode": {
    "name": "ipython",
    "version": 2
   },
   "file_extension": ".py",
   "mimetype": "text/x-python",
   "name": "python",
   "nbconvert_exporter": "python",
   "pygments_lexer": "ipython2",
   "version": "2.7.6"
  }
 },
 "nbformat": 4,
 "nbformat_minor": 5
}
