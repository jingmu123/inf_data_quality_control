{
 "cells": [
  {
   "cell_type": "code",
   "execution_count": 3,
   "id": "initial_id",
   "metadata": {
    "collapsed": true,
    "ExecuteTime": {
     "end_time": "2024-05-08T01:56:37.303460Z",
     "start_time": "2024-05-08T01:56:37.303054Z"
    }
   },
   "outputs": [
    {
     "name": "stdout",
     "output_type": "stream",
     "text": [
      "无关文本 \t 96\n",
      "缺少换行 \t 118\n",
      "多余换行 \t 183\n",
      "信息不完整 \t 8\n",
      "标点错误 \t 5\n",
      "信息完整性 \t 25\n",
      "信息完整度 \t 1\n",
      "栏目混乱 \t 22\n",
      "错别字 \t 8\n",
      "语义重复 \t 1\n",
      "多余标点 \t 4\n",
      "语意重复 \t 3\n",
      "序号格式不一致 \t 2\n",
      "格式杂乱 \t 4\n",
      "  \t 1\n"
     ]
    }
   ],
   "source": [
    "a={'文本干净度': 96, '格式规范性': 317, '信息丰富性': 34, '语义有效性': 26, '语法规范性': 8}\n",
    "b={'无关文本': 96, '缺少换行': 118, '多余换行': 183, '信息不完整': 8, '标点错误': 5, '信息完整性': 25, '信息完整度': 1, '栏目混乱': 22, '错别字': 8, '语义重复': 1, '多余标点': 4, '语意重复': 3, '序号格式不一致': 2, '格式杂乱': 4, ' ': 1}\n",
    "for key,val in b.items():\n",
    "    print(key,\"\\t\",val)"
   ]
  },
  {
   "cell_type": "code",
   "outputs": [],
   "source": [],
   "metadata": {
    "collapsed": false
   },
   "id": "7411a84280447f4a"
  }
 ],
 "metadata": {
  "kernelspec": {
   "display_name": "Python 3",
   "language": "python",
   "name": "python3"
  },
  "language_info": {
   "codemirror_mode": {
    "name": "ipython",
    "version": 2
   },
   "file_extension": ".py",
   "mimetype": "text/x-python",
   "name": "python",
   "nbconvert_exporter": "python",
   "pygments_lexer": "ipython2",
   "version": "2.7.6"
  }
 },
 "nbformat": 4,
 "nbformat_minor": 5
}
