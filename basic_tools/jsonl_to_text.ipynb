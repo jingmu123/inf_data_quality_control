{
 "cells": [
  {
   "cell_type": "code",
   "execution_count": 4,
   "id": "initial_id",
   "metadata": {
    "collapsed": true,
    "ExecuteTime": {
     "end_time": "2024-04-02T11:55:05.032154Z",
     "start_time": "2024-04-02T11:55:05.017073Z"
    }
   },
   "outputs": [],
   "source": [
    "import json\n",
    "import os\n",
    "\n",
    "base_dir = \"../../full_data/nihaixia_zhongyi/\"\n",
    "out_dir = f\"{base_dir}/split_raw\"\n",
    "if not os.path.exists(out_dir):\n",
    "    os.mkdir(out_dir)\n",
    "with open(f'{base_dir}/nihaixia_zhongyi_preformat.jsonl', 'r',encoding='utf-8') as fs:\n",
    "    for item in fs.readlines():\n",
    "        item = json.loads(item)\n",
    "        ids = item['seq_id']\n",
    "        text = item['text']\n",
    "        # print(f\"{out_dir}/{ids}.txt\")\n",
    "        with open(f\"{out_dir}/{ids}.txt\",\"w\",encoding='utf-8') as fw:\n",
    "            fw.write(text)\n",
    "        with open(f\"{out_dir}/{ids}.md\",\"w\",encoding='utf-8') as fw:\n",
    "            fw.write(text)"
   ]
  },
  {
   "cell_type": "code",
   "outputs": [],
   "source": [],
   "metadata": {
    "collapsed": false
   },
   "id": "b78d9639269f1578"
  }
 ],
 "metadata": {
  "kernelspec": {
   "display_name": "Python 3",
   "language": "python",
   "name": "python3"
  },
  "language_info": {
   "codemirror_mode": {
    "name": "ipython",
    "version": 2
   },
   "file_extension": ".py",
   "mimetype": "text/x-python",
   "name": "python",
   "nbconvert_exporter": "python",
   "pygments_lexer": "ipython2",
   "version": "2.7.6"
  }
 },
 "nbformat": 4,
 "nbformat_minor": 5
}
